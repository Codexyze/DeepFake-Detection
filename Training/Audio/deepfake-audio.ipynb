{
 "cells": [
  {
   "cell_type": "code",
   "execution_count": 1,
   "id": "f8a5db08",
   "metadata": {
    "_cell_guid": "b1076dfc-b9ad-4769-8c92-a6c4dae69d19",
    "_uuid": "8f2839f25d086af736a60e9eeb907d3b93b6e0e5",
    "execution": {
     "iopub.execute_input": "2025-05-26T15:30:33.027866Z",
     "iopub.status.busy": "2025-05-26T15:30:33.027554Z",
     "iopub.status.idle": "2025-05-26T15:30:37.671662Z",
     "shell.execute_reply": "2025-05-26T15:30:37.671110Z"
    },
    "papermill": {
     "duration": 4.648331,
     "end_time": "2025-05-26T15:30:37.673179",
     "exception": false,
     "start_time": "2025-05-26T15:30:33.024848",
     "status": "completed"
    },
    "tags": []
   },
   "outputs": [],
   "source": [
    "import os\n",
    "import numpy as np\n",
    "import torch\n",
    "from torch.utils.data import Dataset"
   ]
  },
  {
   "cell_type": "code",
   "execution_count": 2,
   "id": "9d7dff70",
   "metadata": {
    "execution": {
     "iopub.execute_input": "2025-05-26T15:30:37.677429Z",
     "iopub.status.busy": "2025-05-26T15:30:37.677150Z",
     "iopub.status.idle": "2025-05-26T15:30:37.682858Z",
     "shell.execute_reply": "2025-05-26T15:30:37.682166Z"
    },
    "papermill": {
     "duration": 0.008726,
     "end_time": "2025-05-26T15:30:37.683921",
     "exception": false,
     "start_time": "2025-05-26T15:30:37.675195",
     "status": "completed"
    },
    "tags": []
   },
   "outputs": [],
   "source": [
    "class MFCCDataset(Dataset):\n",
    "    def __init__(self, data_dir):\n",
    "        self.data = []\n",
    "        self.labels = []\n",
    "        self.label_map = {'real': 0, 'fake': 1}\n",
    "\n",
    "        for label_name in ['real', 'fake']:\n",
    "            label_dir = os.path.join(data_dir, label_name)\n",
    "            files = [f for f in os.listdir(label_dir) if f.endswith('.npy')]\n",
    "\n",
    "            for file in files:\n",
    "                self.data.append(os.path.join(label_dir, file))\n",
    "                self.labels.append(self.label_map[label_name])\n",
    "\n",
    "    def __len__(self):\n",
    "        return len(self.data)\n",
    "\n",
    "    def __getitem__(self, idx):\n",
    "        mfcc = np.load(self.data[idx])\n",
    "        mfcc = torch.tensor(mfcc, dtype=torch.float32)\n",
    "        mfcc = mfcc.unsqueeze(0)  # Add channel dimension: [1, time, freq]\n",
    "        label = torch.tensor(self.labels[idx], dtype=torch.long)\n",
    "        return mfcc, label\n"
   ]
  },
  {
   "cell_type": "code",
   "execution_count": 3,
   "id": "3abe1102",
   "metadata": {
    "execution": {
     "iopub.execute_input": "2025-05-26T15:30:37.687355Z",
     "iopub.status.busy": "2025-05-26T15:30:37.687125Z",
     "iopub.status.idle": "2025-05-26T15:30:38.125583Z",
     "shell.execute_reply": "2025-05-26T15:30:38.125003Z"
    },
    "papermill": {
     "duration": 0.441653,
     "end_time": "2025-05-26T15:30:38.126916",
     "exception": false,
     "start_time": "2025-05-26T15:30:37.685263",
     "status": "completed"
    },
    "tags": []
   },
   "outputs": [],
   "source": [
    "from torch.utils.data import DataLoader, random_split\n",
    "\n",
    "# Load dataset\n",
    "full_dataset = MFCCDataset(\"/kaggle/input/audio-dataset/processed_mfcc\")\n",
    "\n",
    "# Split into train and val\n",
    "train_size = int(0.8 * len(full_dataset))\n",
    "val_size = len(full_dataset) - train_size\n",
    "train_dataset, val_dataset = random_split(full_dataset, [train_size, val_size])\n",
    "\n",
    "# Create loaders\n",
    "train_loader = DataLoader(train_dataset, batch_size=32, shuffle=True)\n",
    "val_loader = DataLoader(val_dataset, batch_size=32)\n"
   ]
  },
  {
   "cell_type": "code",
   "execution_count": 4,
   "id": "cb9d38a8",
   "metadata": {
    "execution": {
     "iopub.execute_input": "2025-05-26T15:30:38.130741Z",
     "iopub.status.busy": "2025-05-26T15:30:38.130497Z",
     "iopub.status.idle": "2025-05-26T15:30:38.135594Z",
     "shell.execute_reply": "2025-05-26T15:30:38.135090Z"
    },
    "papermill": {
     "duration": 0.008107,
     "end_time": "2025-05-26T15:30:38.136630",
     "exception": false,
     "start_time": "2025-05-26T15:30:38.128523",
     "status": "completed"
    },
    "tags": []
   },
   "outputs": [],
   "source": [
    "import torch.nn as nn\n",
    "import torch.nn.functional as F\n",
    "\n",
    "class AudioCNN(nn.Module):\n",
    "    def __init__(self):\n",
    "        super(AudioCNN, self).__init__()\n",
    "        self.conv1 = nn.Conv2d(1, 16, kernel_size=3)\n",
    "        self.pool1 = nn.MaxPool2d(2)\n",
    "        self.conv2 = nn.Conv2d(16, 32, kernel_size=3)\n",
    "        self.pool2 = nn.MaxPool2d(2)\n",
    "        self.fc1 = nn.Linear(1184, 64)  # Adjust depending on MFCC shape\n",
    "        self.fc2 = nn.Linear(64, 2)\n",
    "\n",
    "    def forward(self, x):\n",
    "        x = self.pool1(F.relu(self.conv1(x)))\n",
    "        x = self.pool2(F.relu(self.conv2(x)))\n",
    "        x = x.view(x.size(0), -1)\n",
    "        x = F.relu(self.fc1(x))\n",
    "        return self.fc2(x)\n"
   ]
  },
  {
   "cell_type": "code",
   "execution_count": 5,
   "id": "ba28f851",
   "metadata": {
    "execution": {
     "iopub.execute_input": "2025-05-26T15:30:38.140101Z",
     "iopub.status.busy": "2025-05-26T15:30:38.139897Z",
     "iopub.status.idle": "2025-05-26T15:41:15.192970Z",
     "shell.execute_reply": "2025-05-26T15:41:15.192117Z"
    },
    "papermill": {
     "duration": 637.056099,
     "end_time": "2025-05-26T15:41:15.194138",
     "exception": false,
     "start_time": "2025-05-26T15:30:38.138039",
     "status": "completed"
    },
    "tags": []
   },
   "outputs": [
    {
     "name": "stderr",
     "output_type": "stream",
     "text": [
      "                                                                            \r"
     ]
    },
    {
     "name": "stdout",
     "output_type": "stream",
     "text": [
      "Epoch 1 completed. Avg Loss: 0.2580\n"
     ]
    },
    {
     "name": "stderr",
     "output_type": "stream",
     "text": [
      "                                                                           \r"
     ]
    },
    {
     "name": "stdout",
     "output_type": "stream",
     "text": [
      "Epoch 2 completed. Avg Loss: 0.1322\n"
     ]
    },
    {
     "name": "stderr",
     "output_type": "stream",
     "text": [
      "                                                                           \r"
     ]
    },
    {
     "name": "stdout",
     "output_type": "stream",
     "text": [
      "Epoch 3 completed. Avg Loss: 0.1076\n"
     ]
    },
    {
     "name": "stderr",
     "output_type": "stream",
     "text": [
      "                                                                            \r"
     ]
    },
    {
     "name": "stdout",
     "output_type": "stream",
     "text": [
      "Epoch 4 completed. Avg Loss: 0.0921\n"
     ]
    },
    {
     "name": "stderr",
     "output_type": "stream",
     "text": [
      "                                                                            \r"
     ]
    },
    {
     "name": "stdout",
     "output_type": "stream",
     "text": [
      "Epoch 5 completed. Avg Loss: 0.0816\n"
     ]
    },
    {
     "name": "stderr",
     "output_type": "stream",
     "text": [
      "                                                                            \r"
     ]
    },
    {
     "name": "stdout",
     "output_type": "stream",
     "text": [
      "Epoch 6 completed. Avg Loss: 0.0689\n"
     ]
    },
    {
     "name": "stderr",
     "output_type": "stream",
     "text": [
      "                                                                           \r"
     ]
    },
    {
     "name": "stdout",
     "output_type": "stream",
     "text": [
      "Epoch 7 completed. Avg Loss: 0.0634\n"
     ]
    },
    {
     "name": "stderr",
     "output_type": "stream",
     "text": [
      "                                                                             \r"
     ]
    },
    {
     "name": "stdout",
     "output_type": "stream",
     "text": [
      "Epoch 8 completed. Avg Loss: 0.0592\n"
     ]
    },
    {
     "name": "stderr",
     "output_type": "stream",
     "text": [
      "                                                                            \r"
     ]
    },
    {
     "name": "stdout",
     "output_type": "stream",
     "text": [
      "Epoch 9 completed. Avg Loss: 0.0500\n"
     ]
    },
    {
     "name": "stderr",
     "output_type": "stream",
     "text": [
      "                                                                            "
     ]
    },
    {
     "name": "stdout",
     "output_type": "stream",
     "text": [
      "Epoch 10 completed. Avg Loss: 0.0487\n"
     ]
    },
    {
     "name": "stderr",
     "output_type": "stream",
     "text": [
      "\r"
     ]
    }
   ],
   "source": [
    "from tqdm import tqdm\n",
    "\n",
    "device = torch.device('cuda' if torch.cuda.is_available() else 'cpu')\n",
    "model = AudioCNN().to(device)\n",
    "optimizer = torch.optim.Adam(model.parameters(), lr=0.001)\n",
    "loss_fn = nn.CrossEntropyLoss()\n",
    "\n",
    "num_epochs = 10\n",
    "for epoch in range(num_epochs):\n",
    "    model.train()\n",
    "    total_loss = 0.0\n",
    "    loop = tqdm(train_loader, desc=f\"Epoch {epoch+1}/{num_epochs}\", leave=False)\n",
    "    \n",
    "    for X, y in loop:\n",
    "        X, y = X.to(device), y.to(device)\n",
    "        optimizer.zero_grad()\n",
    "        out = model(X)\n",
    "        loss = loss_fn(out, y)\n",
    "        loss.backward()\n",
    "        optimizer.step()\n",
    "        total_loss += loss.item()\n",
    "        \n",
    "        loop.set_postfix(loss=loss.item())\n",
    "    \n",
    "    print(f\"Epoch {epoch+1} completed. Avg Loss: {total_loss/len(train_loader):.4f}\")\n"
   ]
  },
  {
   "cell_type": "code",
   "execution_count": 6,
   "id": "15be1818",
   "metadata": {
    "execution": {
     "iopub.execute_input": "2025-05-26T15:41:16.735534Z",
     "iopub.status.busy": "2025-05-26T15:41:16.735168Z",
     "iopub.status.idle": "2025-05-26T15:42:11.155417Z",
     "shell.execute_reply": "2025-05-26T15:42:11.154635Z"
    },
    "papermill": {
     "duration": 55.89246,
     "end_time": "2025-05-26T15:42:11.859778",
     "exception": false,
     "start_time": "2025-05-26T15:41:15.967318",
     "status": "completed"
    },
    "tags": []
   },
   "outputs": [
    {
     "name": "stdout",
     "output_type": "stream",
     "text": [
      "Validation Accuracy: 97.67%\n"
     ]
    }
   ],
   "source": [
    "model.eval()\n",
    "correct = total = 0\n",
    "with torch.no_grad():\n",
    "    for X, y in val_loader:\n",
    "        X, y = X.to(device), y.to(device)\n",
    "        preds = model(X).argmax(dim=1)\n",
    "        correct += (preds == y).sum().item()\n",
    "        total += y.size(0)\n",
    "\n",
    "print(f\"Validation Accuracy: {correct / total:.2%}\")\n"
   ]
  }
 ],
 "metadata": {
  "kaggle": {
   "accelerator": "nvidiaTeslaT4",
   "dataSources": [
    {
     "datasetId": 7495398,
     "sourceId": 11922084,
     "sourceType": "datasetVersion"
    }
   ],
   "dockerImageVersionId": 31041,
   "isGpuEnabled": true,
   "isInternetEnabled": true,
   "language": "python",
   "sourceType": "notebook"
  },
  "kernelspec": {
   "display_name": "Python 3",
   "language": "python",
   "name": "python3"
  },
  "language_info": {
   "codemirror_mode": {
    "name": "ipython",
    "version": 3
   },
   "file_extension": ".py",
   "mimetype": "text/x-python",
   "name": "python",
   "nbconvert_exporter": "python",
   "pygments_lexer": "ipython3",
   "version": "3.11.11"
  },
  "papermill": {
   "default_parameters": {},
   "duration": 706.754931,
   "end_time": "2025-05-26T15:42:15.203261",
   "environment_variables": {},
   "exception": null,
   "input_path": "__notebook__.ipynb",
   "output_path": "__notebook__.ipynb",
   "parameters": {},
   "start_time": "2025-05-26T15:30:28.448330",
   "version": "2.6.0"
  }
 },
 "nbformat": 4,
 "nbformat_minor": 5
}
