{
 "cells": [
  {
   "cell_type": "code",
   "execution_count": 1,
   "id": "f73a0b13-4217-4985-b755-cd9e4efa2eb7",
   "metadata": {},
   "outputs": [],
   "source": [
    "import cv2\n",
    "import os\n",
    "\n",
    "def extract_frames(video_path, output_folder, max_frames_per_second):\n",
    "    video = cv2.VideoCapture(video_path)\n",
    "    video_name = os.path.splitext(os.path.basename(video_path))[0]  # Extract video name without extension\n",
    "    if not video.isOpened():\n",
    "        print(f\"Failed to open video: {video_path}\")\n",
    "        return\n",
    "    fps = int(video.get(cv2.CAP_PROP_FPS))\n",
    "    if fps == 0:\n",
    "        print(\"FPS is zero, cannot proceed with frame extraction.\")\n",
    "        return\n",
    "    frames_per_second = min(fps, max_frames_per_second)\n",
    "    frame_interval = max(1, fps // frames_per_second)\n",
    "    count = 0\n",
    "    success, image = video.read()\n",
    "    \n",
    "    while success:\n",
    "        if count % frame_interval == 0:\n",
    "            frame_filename = f\"{video_name}_frame{count}.jpg\"  # Unique filename for each frame\n",
    "            cv2.imwrite(os.path.join(output_folder, frame_filename), image)\n",
    "        success, image = video.read()\n",
    "        count += 1\n"
   ]
  },
  {
   "cell_type": "code",
   "execution_count": 2,
   "id": "c08c4cef-0f05-4c6d-bb59-95419ef42112",
   "metadata": {},
   "outputs": [],
   "source": [
    "def resize_frames(input_folder, output_folder, size=(720, 720)):\n",
    "    for frame in os.listdir(input_folder):\n",
    "        path = os.path.join(input_folder, frame)\n",
    "        img = cv2.imread(path)\n",
    "        img_resized = cv2.resize(img, size)\n",
    "        cv2.imwrite(os.path.join(output_folder, frame), img_resized)\n"
   ]
  },
  {
   "cell_type": "code",
   "execution_count": 3,
   "id": "9b748f08-21fe-4a8e-9c42-3127cef6c755",
   "metadata": {},
   "outputs": [],
   "source": [
    "real_videos_path = r\"D:\\DeepFake Detection System\\Test_Model\\Dataset\\Real\\Real0\"\n"
   ]
  },
  {
   "cell_type": "code",
   "execution_count": 4,
   "id": "57f3662a-8f52-4aa4-9942-9c6028c71957",
   "metadata": {},
   "outputs": [],
   "source": [
    "os.makedirs(r\"D:\\DeepFake Detection System\\Test_Model\\Frames\\Real\", exist_ok=True)\n",
    "os.makedirs(r\"D:\\DeepFake Detection System\\Test_Model\\Frames\\Fake\", exist_ok=True)\n",
    "os.makedirs(r\"D:\\DeepFake Detection System\\Test_Model\\Frames\\Real\", exist_ok=True)\n",
    "os.makedirs(r\"D:\\DeepFake Detection System\\Test_Model\\Frames\\Fake\", exist_ok=True)\n"
   ]
  },
  {
   "cell_type": "code",
   "execution_count": 5,
   "id": "2a5aa2f8-92b1-4482-b265-2ae245709618",
   "metadata": {},
   "outputs": [
    {
     "ename": "error",
     "evalue": "OpenCV(4.10.0) D:\\a\\opencv-python\\opencv-python\\opencv\\modules\\imgproc\\src\\resize.cpp:4152: error: (-215:Assertion failed) !ssize.empty() in function 'cv::resize'\n",
     "output_type": "error",
     "traceback": [
      "\u001b[1;31m---------------------------------------------------------------------------\u001b[0m",
      "\u001b[1;31merror\u001b[0m                                     Traceback (most recent call last)",
      "Cell \u001b[1;32mIn[5], line 13\u001b[0m\n\u001b[0;32m     10\u001b[0m             resize_frames(extracted_folder, resized_folder, size)\n\u001b[0;32m     12\u001b[0m \u001b[38;5;66;03m# Example usage:\u001b[39;00m\n\u001b[1;32m---> 13\u001b[0m \u001b[43mprocess_videos\u001b[49m\u001b[43m(\u001b[49m\u001b[43mreal_videos_path\u001b[49m\u001b[43m,\u001b[49m\u001b[43m \u001b[49m\u001b[38;5;124;43mr\u001b[39;49m\u001b[38;5;124;43m\"\u001b[39;49m\u001b[38;5;124;43mD:\u001b[39;49m\u001b[38;5;124;43m\\\u001b[39;49m\u001b[38;5;124;43mDeepFake Detection System\u001b[39;49m\u001b[38;5;124;43m\\\u001b[39;49m\u001b[38;5;124;43mTest_Model\u001b[39;49m\u001b[38;5;124;43m\\\u001b[39;49m\u001b[38;5;124;43mDataset\u001b[39;49m\u001b[38;5;124;43m\\\u001b[39;49m\u001b[38;5;124;43mReal\u001b[39;49m\u001b[38;5;124;43m\\\u001b[39;49m\u001b[38;5;124;43mReal0\u001b[39;49m\u001b[38;5;124;43m\"\u001b[39;49m\u001b[43m,\u001b[49m\u001b[43m \u001b[49m\u001b[38;5;124;43mr\u001b[39;49m\u001b[38;5;124;43m\"\u001b[39;49m\u001b[38;5;124;43mD:\u001b[39;49m\u001b[38;5;124;43m\\\u001b[39;49m\u001b[38;5;124;43mDeepFake Detection System\u001b[39;49m\u001b[38;5;124;43m\\\u001b[39;49m\u001b[38;5;124;43mTest_Model\u001b[39;49m\u001b[38;5;124;43m\\\u001b[39;49m\u001b[38;5;124;43mFrames\u001b[39;49m\u001b[38;5;124;43m\\\u001b[39;49m\u001b[38;5;124;43mReal\u001b[39;49m\u001b[38;5;124;43m\"\u001b[39;49m\u001b[43m,\u001b[49m\u001b[43m \u001b[49m\u001b[38;5;241;43m15\u001b[39;49m\u001b[43m)\u001b[49m\n\u001b[0;32m     14\u001b[0m \u001b[38;5;66;03m#process_videos(fake_videos_path, r\"D:\\DeepFake Detection System\\Test_Model\\Frames\\Fake\", r\"D:\\DeepFake Detection System\\Test_Model\\Frames\\Fake\", 15)\u001b[39;00m\n",
      "Cell \u001b[1;32mIn[5], line 10\u001b[0m, in \u001b[0;36mprocess_videos\u001b[1;34m(video_folder, extracted_folder, resized_folder, frames_per_second, size)\u001b[0m\n\u001b[0;32m      8\u001b[0m \u001b[38;5;28;01mif\u001b[39;00m video_path\u001b[38;5;241m.\u001b[39mlower()\u001b[38;5;241m.\u001b[39mendswith((\u001b[38;5;124m'\u001b[39m\u001b[38;5;124m.mp4\u001b[39m\u001b[38;5;124m'\u001b[39m, \u001b[38;5;124m'\u001b[39m\u001b[38;5;124m.avi\u001b[39m\u001b[38;5;124m'\u001b[39m)):  \u001b[38;5;66;03m# Check for video files\u001b[39;00m\n\u001b[0;32m      9\u001b[0m     extract_frames(video_path, extracted_folder, frames_per_second)\n\u001b[1;32m---> 10\u001b[0m     \u001b[43mresize_frames\u001b[49m\u001b[43m(\u001b[49m\u001b[43mextracted_folder\u001b[49m\u001b[43m,\u001b[49m\u001b[43m \u001b[49m\u001b[43mresized_folder\u001b[49m\u001b[43m,\u001b[49m\u001b[43m \u001b[49m\u001b[43msize\u001b[49m\u001b[43m)\u001b[49m\n",
      "Cell \u001b[1;32mIn[2], line 5\u001b[0m, in \u001b[0;36mresize_frames\u001b[1;34m(input_folder, output_folder, size)\u001b[0m\n\u001b[0;32m      3\u001b[0m path \u001b[38;5;241m=\u001b[39m os\u001b[38;5;241m.\u001b[39mpath\u001b[38;5;241m.\u001b[39mjoin(input_folder, frame)\n\u001b[0;32m      4\u001b[0m img \u001b[38;5;241m=\u001b[39m cv2\u001b[38;5;241m.\u001b[39mimread(path)\n\u001b[1;32m----> 5\u001b[0m img_resized \u001b[38;5;241m=\u001b[39m \u001b[43mcv2\u001b[49m\u001b[38;5;241;43m.\u001b[39;49m\u001b[43mresize\u001b[49m\u001b[43m(\u001b[49m\u001b[43mimg\u001b[49m\u001b[43m,\u001b[49m\u001b[43m \u001b[49m\u001b[43msize\u001b[49m\u001b[43m)\u001b[49m\n\u001b[0;32m      6\u001b[0m cv2\u001b[38;5;241m.\u001b[39mimwrite(os\u001b[38;5;241m.\u001b[39mpath\u001b[38;5;241m.\u001b[39mjoin(output_folder, frame), img_resized)\n",
      "\u001b[1;31merror\u001b[0m: OpenCV(4.10.0) D:\\a\\opencv-python\\opencv-python\\opencv\\modules\\imgproc\\src\\resize.cpp:4152: error: (-215:Assertion failed) !ssize.empty() in function 'cv::resize'\n"
     ]
    }
   ],
   "source": [
    "def process_videos(video_folder, extracted_folder, resized_folder, frames_per_second, size=(720, 720)):\n",
    "    # Ensure directories for frames are created\n",
    "    os.makedirs(extracted_folder, exist_ok=True)\n",
    "    os.makedirs(resized_folder, exist_ok=True)\n",
    "    \n",
    "    for video in os.listdir(video_folder):\n",
    "        video_path = os.path.join(video_folder, video)\n",
    "        if video_path.lower().endswith(('.mp4', '.avi')):  # Check for video files\n",
    "            extract_frames(video_path, extracted_folder, frames_per_second)\n",
    "            resize_frames(extracted_folder, resized_folder, size)\n",
    "\n",
    "# Example usage:\n",
    "process_videos(real_videos_path, r\"D:\\DeepFake Detection System\\Test_Model\\Dataset\\Real\\Real0\", r\"D:\\DeepFake Detection System\\Test_Model\\Frames\\Real\", 15)\n",
    "#process_videos(fake_videos_path, r\"D:\\DeepFake Detection System\\Test_Model\\Frames\\Fake\", r\"D:\\DeepFake Detection System\\Test_Model\\Frames\\Fake\", 15)\n"
   ]
  },
  {
   "cell_type": "code",
   "execution_count": 1,
   "id": "6f7b6460",
   "metadata": {},
   "outputs": [],
   "source": [
    "import cv2\n",
    "import os\n",
    "import numpy as np\n",
    "from concurrent.futures import ProcessPoolExecutor\n",
    "from cv2 import dnn"
   ]
  },
  {
   "cell_type": "code",
   "execution_count": null,
   "id": "0b1f68c9",
   "metadata": {},
   "outputs": [],
   "source": [
    "\n",
    "fake_videos_path = r\"D:\\DeepFake Detection System\\Test_Model\\Dataset\\Fake\""
   ]
  },
  {
   "cell_type": "code",
   "execution_count": 5,
   "id": "70fe760f",
   "metadata": {},
   "outputs": [],
   "source": [
    "net = dnn.readNetFromCaffe(\n",
    "    r\"D:\\DeepFake Detection System\\Test_Model\\deploy.prototxt\",  # Path to the Caffe deploy prototxt file\n",
    "    r\"D:\\DeepFake Detection System\\Test_Model\\res10_300x300_ssd_iter_140000_fp16.caffemodel\"  # Path to the Caffe pre-trained model\n",
    ")"
   ]
  },
  {
   "cell_type": "code",
   "execution_count": 7,
   "id": "6311f0c3",
   "metadata": {},
   "outputs": [],
   "source": [
    "def extract_and_focus_faces(video_path, output_folder, max_frames_per_second, zoom_factor=2):\n",
    "    video = cv2.VideoCapture(video_path)\n",
    "    video_name = os.path.splitext(os.path.basename(video_path))[0]\n",
    "    if not video.isOpened():\n",
    "        print(f\"Failed to open video: {video_path}\")\n",
    "        return\n",
    "    fps = int(video.get(cv2.CAP_PROP_FPS))\n",
    "    frames_per_second = min(fps, max_frames_per_second)\n",
    "    frame_interval = max(1, fps // frames_per_second)\n",
    "    count = 0\n",
    "    success, image = video.read()\n",
    "    \n",
    "    while success:\n",
    "        if count % frame_interval == 0:\n",
    "            h, w = image.shape[:2]\n",
    "            blob = cv2.dnn.blobFromImage(image, 1.0, (300, 300), (104.0, 177.0, 123.0))\n",
    "            net.setInput(blob)\n",
    "            faces = net.forward()\n",
    "            for i in range(faces.shape[2]):\n",
    "                confidence = faces[0, 0, i, 2]\n",
    "                if confidence > 0.5:\n",
    "                    box = faces[0, 0, i, 3:7] * np.array([w, h, w, h])\n",
    "                    (x, y, x1, y1) = box.astype(\"int\")\n",
    "                    \n",
    "                    # Adjust box dimensions based on zoom factor\n",
    "                    center_x, center_y = (x + x1) // 2, (y + y1) // 2\n",
    "                    width = int((x1 - x) * zoom_factor / 2)\n",
    "                    height = int((y1 - y) * zoom_factor / 2)\n",
    "                    new_x, new_x1 = max(0, center_x - width), min(w, center_x + width)\n",
    "                    new_y, new_y1 = max(0, center_y - height), min(h, center_y + height)\n",
    "\n",
    "                    face = image[new_y:new_y1, new_x:new_x1]\n",
    "                    resized_face = cv2.resize(face, (720, 720))\n",
    "                    frame_filename = f\"{video_name}_frame{count}_face{i}.jpg\"\n",
    "                    cv2.imwrite(os.path.join(output_folder, frame_filename), resized_face)\n",
    "        success, image = video.read()\n",
    "        count += 1"
   ]
  },
  {
   "cell_type": "code",
   "execution_count": 9,
   "id": "d844256f",
   "metadata": {},
   "outputs": [],
   "source": [
    "def process_videos_parallel(video_folder, output_folder, frames_per_second):\n",
    "    os.makedirs(output_folder, exist_ok=True)\n",
    "    videos = [os.path.join(video_folder, f) for f in os.listdir(video_folder) if f.lower().endswith(('.mp4', '.avi'))]\n",
    "    with ProcessPoolExecutor() as executor:\n",
    "        executor.map(lambda p: extract_and_focus_faces(*p), [(v, output_folder, frames_per_second) for v in videos])\n",
    "\n",
    "# Example usage\n",
    "process_videos_parallel(real_videos_path, r\"D:\\DeepFake Detection System\\Test_Model\\Frames\\Real\", 15)\n",
    "process_videos_parallel(fake_videos_path, r\"D:\\DeepFake Detection System\\Test_Model\\Frames\\Fake\", 15)"
   ]
  },
  {
   "cell_type": "code",
   "execution_count": 2,
   "id": "f8904341",
   "metadata": {},
   "outputs": [],
   "source": [
    "import cv2\n",
    "import os\n",
    "\n",
    "def extract_frames_from_video(video_path, output_folder, max_frames_per_second):\n",
    "    try:\n",
    "        video = cv2.VideoCapture(video_path)\n",
    "        video_name = os.path.splitext(os.path.basename(video_path))[0]\n",
    "        if not video.isOpened():\n",
    "            print(f\"Failed to open video: {video_path}\")\n",
    "            return\n",
    "        fps = int(video.get(cv2.CAP_PROP_FPS))\n",
    "        frames_per_second = min(fps, max_frames_per_second)\n",
    "        frame_interval = max(1, fps // frames_per_second)\n",
    "        count = 0\n",
    "        frame_number = 0\n",
    "        success, image = video.read()\n",
    "        while success:\n",
    "            if count % frame_interval == 0:\n",
    "                frame_filename = f\"{video_name}_frame{frame_number}.jpg\"\n",
    "                cv2.imwrite(os.path.join(output_folder, frame_filename), image)\n",
    "                frame_number += 1\n",
    "            success, image = video.read()\n",
    "            count += 1\n",
    "        video.release()\n",
    "    except Exception as e:\n",
    "        print(f\"Error processing {video_path}: {e}\")\n",
    "\n",
    "def extract_frames_from_videos(video_folder, output_folder, frames_per_second):\n",
    "    os.makedirs(output_folder, exist_ok=True)\n",
    "    videos = [\n",
    "        os.path.join(video_folder, f)\n",
    "        for f in os.listdir(video_folder)\n",
    "        if f.lower().endswith(('.mp4', '.avi'))\n",
    "    ]\n",
    "    for v in videos:\n",
    "        extract_frames_from_video(v, output_folder, frames_per_second)\n",
    "\n",
    "if __name__ == \"__main__\":\n",
    "    real_videos_path = r\"D:\\DeepFake Detection System\\Test_Model\\Dataset\\Real\\Real4\"\n",
    "    fake_videos_path = r\"D:\\DeepFake Detection System\\Test_Model\\Dataset\\Fake\\Fake0\"\n",
    "    real_frames_output = r\"D:\\DeepFake Detection System\\Test_Model\\Frames\\Real_Frames\"\n",
    "    fake_frames_output = r\"D:\\DeepFake Detection System\\Test_Model\\Frames\\Fake_Frames\"\n",
    "\n",
    "    # Extract frames from real videos\n",
    "    #extract_frames_from_videos(real_videos_path, real_frames_output, 15)\n",
    "\n",
    "    # Extract frames from fake videos\n",
    "    extract_frames_from_videos(fake_videos_path, fake_frames_output, 15)\n"
   ]
  }
 ],
 "metadata": {
  "kernelspec": {
   "display_name": "Python 3",
   "language": "python",
   "name": "python3"
  },
  "language_info": {
   "codemirror_mode": {
    "name": "ipython",
    "version": 3
   },
   "file_extension": ".py",
   "mimetype": "text/x-python",
   "name": "python",
   "nbconvert_exporter": "python",
   "pygments_lexer": "ipython3",
   "version": "3.12.6"
  }
 },
 "nbformat": 4,
 "nbformat_minor": 5
}
